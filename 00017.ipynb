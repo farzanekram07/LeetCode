{
  "nbformat": 4,
  "nbformat_minor": 0,
  "metadata": {
    "colab": {
      "name": "17.ipynb",
      "provenance": [],
      "authorship_tag": "ABX9TyPhjDMs4KgEd0qPna3k1o4d",
      "include_colab_link": true
    },
    "kernelspec": {
      "name": "python3",
      "display_name": "Python 3"
    },
    "language_info": {
      "name": "python"
    }
  },
  "cells": [
    {
      "cell_type": "markdown",
      "metadata": {
        "id": "view-in-github",
        "colab_type": "text"
      },
      "source": [
        "<a href=\"https://colab.research.google.com/github/farzanekram07/LeetCode/blob/main/17.ipynb\" target=\"_parent\"><img src=\"https://colab.research.google.com/assets/colab-badge.svg\" alt=\"Open In Colab\"/></a>"
      ]
    },
    {
      "cell_type": "code",
      "execution_count": null,
      "metadata": {
        "id": "QFSMCtuTVQ-R"
      },
      "outputs": [],
      "source": [
        "class Solution(object):\n",
        "    def letterCombinations(self, digits):\n",
        "       \n",
        "        phoneMap = { '2': 'abc', '3': 'def', '4': 'ghi', '5': 'jkl', '6': 'mno', '7' : 'pqrs', '8': 'tuv', '9':'wxyz'}\n",
        "        number = str(digits)\n",
        "\n",
        "        if number == \"\":\n",
        "        \treturn []\n",
        "\n",
        "        result = ['']\n",
        "        for char in number:\n",
        "        \tvalues = phoneMap[char]\n",
        "        \tnew_result = []\n",
        "        \tfor prefix in result:\n",
        "        \t\tcurrElement = prefix\n",
        "        \t\tfor value in values:\n",
        "        \t\t\tnew_result.append(currElement+value)\n",
        "\n",
        "        \tresult = new_result\n",
        "    \n",
        "        return result"
      ]
    },
    {
      "cell_type": "markdown",
      "source": [
        "#Hack3rPUNK"
      ],
      "metadata": {
        "id": "0p5m7e67VvYB"
      }
    }
  ]
}
