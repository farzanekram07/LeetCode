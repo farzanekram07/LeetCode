{
  "nbformat": 4,
  "nbformat_minor": 0,
  "metadata": {
    "colab": {
      "provenance": [],
      "authorship_tag": "ABX9TyM13SJzbO9RSDKANHQi9bHI",
      "include_colab_link": true
    },
    "kernelspec": {
      "name": "python3",
      "display_name": "Python 3"
    },
    "language_info": {
      "name": "python"
    }
  },
  "cells": [
    {
      "cell_type": "markdown",
      "metadata": {
        "id": "view-in-github",
        "colab_type": "text"
      },
      "source": [
        "<a href=\"https://colab.research.google.com/github/farzanekram07/LeetCode/blob/main/40.ipynb\" target=\"_parent\"><img src=\"https://colab.research.google.com/assets/colab-badge.svg\" alt=\"Open In Colab\"/></a>"
      ]
    },
    {
      "cell_type": "code",
      "execution_count": null,
      "metadata": {
        "id": "tKd1BF_uVcw3"
      },
      "outputs": [],
      "source": [
        "class Solution(object):\n",
        "    def combinationSum2(self, candidates, target):\n",
        "        \"\"\"\n",
        "        :type candidates: List[int]\n",
        "        :type target: int\n",
        "        :rtype: List[List[int]]\n",
        "        \"\"\"\n",
        "        candidates.sort()\n",
        "        dp = [[] for _ in range(target + 1)]\n",
        "        dp[0].append([])\n",
        "        for i in range(1, target + 1):\n",
        "            for j in range(len(candidates)):\n",
        "                if candidates[j] > i:\n",
        "                    break\n",
        "                for k in range(len(dp[i - candidates[j]])):\n",
        "                    temp = dp[i - candidates[j]][k][:]\n",
        "                    # check if this number is used\n",
        "                    if len(temp) > 0 and temp[-1] >= j:\n",
        "                        continue\n",
        "                    # store index\n",
        "                    temp.append(j)\n",
        "                    dp[i].append(temp)\n",
        "        res = []\n",
        "        check = {}\n",
        "        for temp in dp[target]:\n",
        "            value = [candidates[t] for t in temp]\n",
        "            try:\n",
        "                check[str(value)] += 1\n",
        "            except KeyError:\n",
        "                check[str(value)] = 1\n",
        "                res.append(value)\n",
        "        return res"
      ]
    },
    {
      "cell_type": "markdown",
      "source": [
        "#Hack3rPUNK"
      ],
      "metadata": {
        "id": "0hQwzqXhV_B9"
      }
    }
  ]
}
