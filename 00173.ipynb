{
  "nbformat": 4,
  "nbformat_minor": 0,
  "metadata": {
    "colab": {
      "provenance": [],
      "authorship_tag": "ABX9TyOUDc9ckfyHQ4OPVqNjEOA3",
      "include_colab_link": true
    },
    "kernelspec": {
      "name": "python3",
      "display_name": "Python 3"
    },
    "language_info": {
      "name": "python"
    }
  },
  "cells": [
    {
      "cell_type": "markdown",
      "metadata": {
        "id": "view-in-github",
        "colab_type": "text"
      },
      "source": [
        "<a href=\"https://colab.research.google.com/github/farzanekram07/LeetCode/blob/main/173.ipynb\" target=\"_parent\"><img src=\"https://colab.research.google.com/assets/colab-badge.svg\" alt=\"Open In Colab\"/></a>"
      ]
    },
    {
      "cell_type": "code",
      "execution_count": null,
      "metadata": {
        "id": "WEcCHkAO7hb8"
      },
      "outputs": [],
      "source": [
        "class BSTIterator(object):\n",
        "    def __init__(self, root):\n",
        "        \"\"\"\n",
        "        :type root: TreeNode\n",
        "        \"\"\"\n",
        "        self.stack = []\n",
        "        while root:\n",
        "            self.stack.append(root)\n",
        "            root = root.left\n",
        "\n",
        "\n",
        "    def hasNext(self):\n",
        "        \"\"\"\n",
        "        :rtype: bool\n",
        "        \"\"\"\n",
        "        return self.stack\n",
        "\n",
        "    def next(self):\n",
        "        \"\"\"\n",
        "        :rtype: int\n",
        "        \"\"\"\n",
        "        node = self.stack.pop()\n",
        "        new_node = node.right\n",
        "        while new_node:\n",
        "            self.stack.append(new_node)\n",
        "            new_node = new_node.left\n",
        "        return node.val"
      ]
    },
    {
      "cell_type": "markdown",
      "source": [
        "#Hack3rPUNK"
      ],
      "metadata": {
        "id": "iaAHeXvZ7kbD"
      }
    }
  ]
}
