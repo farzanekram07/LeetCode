{
  "nbformat": 4,
  "nbformat_minor": 0,
  "metadata": {
    "colab": {
      "name": "24.ipynb",
      "provenance": [],
      "authorship_tag": "ABX9TyMfpyJ3HJouIHwlX2jeQRm2",
      "include_colab_link": true
    },
    "kernelspec": {
      "name": "python3",
      "display_name": "Python 3"
    },
    "language_info": {
      "name": "python"
    }
  },
  "cells": [
    {
      "cell_type": "markdown",
      "metadata": {
        "id": "view-in-github",
        "colab_type": "text"
      },
      "source": [
        "<a href=\"https://colab.research.google.com/github/farzanekram07/LeetCode/blob/main/24.ipynb\" target=\"_parent\"><img src=\"https://colab.research.google.com/assets/colab-badge.svg\" alt=\"Open In Colab\"/></a>"
      ]
    },
    {
      "cell_type": "code",
      "execution_count": null,
      "metadata": {
        "id": "BHS6A7vhRRtU"
      },
      "outputs": [],
      "source": [
        "class Solution(object):\n",
        "    def swapPairs(self, head):\n",
        "      \n",
        "      if head is None:\n",
        "            return head\n",
        "        \n",
        "        ref = head\n",
        "        \n",
        "        while ref is not None and ref.next is not None:\n",
        "            ref.val, ref.next.val = ref.next.val, ref.val\n",
        "            ref = ref.next.next\n",
        "            \n",
        "        return head\n",
        "Footer\n"
      ]
    },
    {
      "cell_type": "markdown",
      "source": [
        "#Hack3rPUNK"
      ],
      "metadata": {
        "id": "7D8dFgtTRWW3"
      }
    }
  ]
}