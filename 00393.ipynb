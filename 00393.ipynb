{
  "nbformat": 4,
  "nbformat_minor": 0,
  "metadata": {
    "colab": {
      "provenance": [],
      "authorship_tag": "ABX9TyPSrB4IxP1DgS4LA381PYWw",
      "include_colab_link": true
    },
    "kernelspec": {
      "name": "python3",
      "display_name": "Python 3"
    },
    "language_info": {
      "name": "python"
    }
  },
  "cells": [
    {
      "cell_type": "markdown",
      "metadata": {
        "id": "view-in-github",
        "colab_type": "text"
      },
      "source": [
        "<a href=\"https://colab.research.google.com/github/farzanekram07/LeetCode/blob/main/00393.ipynb\" target=\"_parent\"><img src=\"https://colab.research.google.com/assets/colab-badge.svg\" alt=\"Open In Colab\"/></a>"
      ]
    },
    {
      "cell_type": "code",
      "execution_count": null,
      "metadata": {
        "id": "2G7RUy_IaQkN"
      },
      "outputs": [],
      "source": [
        "class Solution(object):\n",
        "    def validUtf8(self, data):\n",
        "        \"\"\"\n",
        "        :type data: List[int]\n",
        "        :rtype: bool\n",
        "        \"\"\"\n",
        "        seveneth_mask = 1 << 7\n",
        "        sixth_mask = 1 << 6\n",
        "        no_bytes = 0\n",
        "\n",
        "        if len(data) == 1:\n",
        "            return not(data[0] & seveneth_mask)\n",
        "\n",
        "        for num in data:\n",
        "            if no_bytes == 0:\n",
        "                mask = 1 << 7\n",
        "\n",
        "                while num & mask:\n",
        "                    no_bytes += 1\n",
        "                    mask >>= 1\n",
        "\n",
        "                if no_bytes == 0:\n",
        "                    continue\n",
        "\n",
        "                if no_bytes == 1 or no_bytes > 4:\n",
        "                    return False\n",
        "            else:\n",
        "                if not(num & seveneth_mask and not(num & sixth_mask)):\n",
        "                    return False\n",
        "            no_bytes -= 1\n",
        "        return no_bytes == 0"
      ]
    },
    {
      "cell_type": "markdown",
      "source": [
        "#Hack3rPUNK"
      ],
      "metadata": {
        "id": "FgEgAQ7ObX92"
      }
    }
  ]
}