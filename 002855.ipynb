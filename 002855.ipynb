{
  "nbformat": 4,
  "nbformat_minor": 0,
  "metadata": {
    "colab": {
      "provenance": [],
      "authorship_tag": "ABX9TyPzlChLR+8wer6FYXrH38qp",
      "include_colab_link": true
    },
    "kernelspec": {
      "name": "python3",
      "display_name": "Python 3"
    },
    "language_info": {
      "name": "python"
    }
  },
  "cells": [
    {
      "cell_type": "markdown",
      "metadata": {
        "id": "view-in-github",
        "colab_type": "text"
      },
      "source": [
        "<a href=\"https://colab.research.google.com/github/farzanekram07/LeetCode/blob/main/285.ipynb\" target=\"_parent\"><img src=\"https://colab.research.google.com/assets/colab-badge.svg\" alt=\"Open In Colab\"/></a>"
      ]
    },
    {
      "cell_type": "code",
      "execution_count": null,
      "metadata": {
        "id": "uwpMsglg1iau"
      },
      "outputs": [],
      "source": [
        "class Solution(object):\n",
        "    def inorderSuccessor(self, root, p):\n",
        "        \"\"\"\n",
        "        :type root: TreeNode\n",
        "        :type p: TreeNode\n",
        "        :rtype: TreeNode\n",
        "\t\t\"\"\"\n",
        "\n",
        "\t\tif not root or not p:\n",
        "\t\t\treturn None\n",
        "\n",
        "\t\tif p.right:\n",
        "\t\t\tp = p.right\n",
        "\t\t\twhile p.left:\n",
        "\t\t\t\tp = p.left\n",
        "\t\t\treturn p\n",
        "\n",
        "\t\tsuccessor = None\n",
        "\t\twhile root and root != p:\n",
        "\t\t\tif root.val > p.val:\n",
        "\t\t\t\tsuccessor = root\n",
        "\t\t\t\troot = root.left\n",
        "\t\t\telse:\n",
        "\t\t\t\troot = root.right\n",
        "\t\treturn successor"
      ]
    },
    {
      "cell_type": "markdown",
      "source": [
        "#Hack3rPUNK"
      ],
      "metadata": {
        "id": "MhIsiozX2AuN"
      }
    }
  ]
}
