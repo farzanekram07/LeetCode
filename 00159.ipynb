{
  "nbformat": 4,
  "nbformat_minor": 0,
  "metadata": {
    "colab": {
      "provenance": [],
      "authorship_tag": "ABX9TyOWGS039uuF3+AmX+a77uyn",
      "include_colab_link": true
    },
    "kernelspec": {
      "name": "python3",
      "display_name": "Python 3"
    },
    "language_info": {
      "name": "python"
    }
  },
  "cells": [
    {
      "cell_type": "markdown",
      "metadata": {
        "id": "view-in-github",
        "colab_type": "text"
      },
      "source": [
        "<a href=\"https://colab.research.google.com/github/farzanekram07/LeetCode/blob/main/159.ipynb\" target=\"_parent\"><img src=\"https://colab.research.google.com/assets/colab-badge.svg\" alt=\"Open In Colab\"/></a>"
      ]
    },
    {
      "cell_type": "code",
      "execution_count": null,
      "metadata": {
        "id": "BLX7OlgL64Hp"
      },
      "outputs": [],
      "source": [
        "class Solution(object):\n",
        "\tdef lengthOfLongestSubstringTwoDistinct(self, s):\n",
        "\t\t\"\"\"\n",
        "        :type s: str\n",
        "        :rtype: int\n",
        "        \"\"\"\n",
        "        if not s:\n",
        "        \treturn 0\n",
        "\n",
        "        unique_char, start, result = {}, 0, 0\n",
        "        for index, char in enumerate(s):\n",
        "        \tif char in unique_char:\n",
        "        \t\tunique_char[s] += 1\n",
        "        \telse:\n",
        "        \t\tunique_char[s] = 1\n",
        "\n",
        "        \tif len(unique_char) <= 2:\n",
        "        \t\tresult = max(result, index-start+1)\n",
        "        \telse:\n",
        "        \t\twhile len(unique_char) > 2:\n",
        "        \t\t\tchar_index = s[start]\n",
        "        \t\t\tcount = unique_char[char_index]\n",
        "        \t\t\tif count == 1:\n",
        "        \t\t\t\tdel unique_char[char_index]\n",
        "        \t\t\telse:\n",
        "        \t\t\t\tunique_char[char_index] -= 1\n",
        "        \t\t\tstart += 1\n",
        "        return result"
      ]
    },
    {
      "cell_type": "markdown",
      "source": [
        "#Hack3rPUNK"
      ],
      "metadata": {
        "id": "bgy4qPCE66bp"
      }
    }
  ]
}
