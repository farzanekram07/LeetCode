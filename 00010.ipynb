{
  "nbformat": 4,
  "nbformat_minor": 0,
  "metadata": {
    "colab": {
      "provenance": [],
      "authorship_tag": "ABX9TyOP3bjRPNxr/2FnodLHKWw4",
      "include_colab_link": true
    },
    "kernelspec": {
      "name": "python3",
      "display_name": "Python 3"
    },
    "language_info": {
      "name": "python"
    }
  },
  "cells": [
    {
      "cell_type": "markdown",
      "metadata": {
        "id": "view-in-github",
        "colab_type": "text"
      },
      "source": [
        "<a href=\"https://colab.research.google.com/github/farzanekram07/LeetCode/blob/main/10.ipynb\" target=\"_parent\"><img src=\"https://colab.research.google.com/assets/colab-badge.svg\" alt=\"Open In Colab\"/></a>"
      ]
    },
    {
      "cell_type": "code",
      "execution_count": null,
      "metadata": {
        "id": "IoUHy_CI3gjd"
      },
      "outputs": [],
      "source": [
        "class Solution(object):\n",
        "    def isMatch(self, s, p):\n",
        "        \"\"\"\n",
        "        :type s: str\n",
        "        :type p: str\n",
        "        :rtype: bool\n",
        "        \"\"\"\n",
        "        dp = [[False for _ in range(len(p) + 1)] for _ in range(len(s) + 1)]\n",
        "        dp[0][0] = True\n",
        "\n",
        " \t\tfor index in range(1, len(dp[0])):\n",
        "            if p[index-1] == '*':\n",
        "                dp[0][index] = dp[0][index - 2]\n",
        "\n",
        "        for index_i in range(1, len(dp)):\n",
        "        \tfor index_j in range(1, len(dp[0])):\n",
        "        \t\tif s[index_i - 1] == p[index_j - 1] or p[index_j - 1] == '.':\n",
        "        \t\t\tdp[index_i][index_j] = dp[index_i-1][index_j-1]\n",
        "        \t\telif p[index_j-1] == '*':\n",
        "        \t\t\tdp[index_i][index_j] = dp[index_i][index_j-2]\n",
        "\n",
        "        \t\t\tif s[index_i-1] == p[index_j-2] or p[index_j-2] == '.':\n",
        "        \t\t\t\tdp[index_i][index_j] = dp[index_i-1][index_j] or dp[index_i][index_j]\n",
        "\n",
        "        \t\telse:\n",
        "        \t\t\tdp[index_i][index_j] = False\n",
        "\n",
        "\n",
        "        return dp[len(s)][len(p)]"
      ]
    },
    {
      "cell_type": "markdown",
      "source": [
        "#Hack3rPUNK"
      ],
      "metadata": {
        "id": "89JZ6GrC3lct"
      }
    }
  ]
}
