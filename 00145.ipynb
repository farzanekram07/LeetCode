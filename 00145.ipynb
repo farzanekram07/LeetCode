{
  "nbformat": 4,
  "nbformat_minor": 0,
  "metadata": {
    "colab": {
      "provenance": [],
      "authorship_tag": "ABX9TyNo2ACFR8h7IyKW6c3UqDMD",
      "include_colab_link": true
    },
    "kernelspec": {
      "name": "python3",
      "display_name": "Python 3"
    },
    "language_info": {
      "name": "python"
    }
  },
  "cells": [
    {
      "cell_type": "markdown",
      "metadata": {
        "id": "view-in-github",
        "colab_type": "text"
      },
      "source": [
        "<a href=\"https://colab.research.google.com/github/farzanekram07/LeetCode/blob/main/145.ipynb\" target=\"_parent\"><img src=\"https://colab.research.google.com/assets/colab-badge.svg\" alt=\"Open In Colab\"/></a>"
      ]
    },
    {
      "cell_type": "code",
      "execution_count": null,
      "metadata": {
        "id": "kAHU_vT_5J50"
      },
      "outputs": [],
      "source": [
        "class Solution(object):\n",
        "    def postorderTraversal(self, root):\n",
        "        \"\"\"\n",
        "        :type root: TreeNode\n",
        "        :rtype: List[int]\n",
        "        \"\"\"\n",
        "\n",
        "        result = []\n",
        "\n",
        "        def recursive(root, result):\n",
        "        \tif not root:\n",
        "        \t\treturn\n",
        "        \trecursive(root.left, result)\n",
        "        \trecursive(root.right, result)\n",
        "        \tresult.append(root.val)\n",
        "        recursive(root, result)\n",
        "        return result\n",
        "\n",
        "\n",
        "# Definition for a binary tree node.\n",
        "# class TreeNode(object):\n",
        "#     def __init__(self, x):\n",
        "#         self.val = x\n",
        "#         self.left = None\n",
        "#         self.right = None\n",
        "\n",
        "class Solution(object):\n",
        "    def postorderTraversal(self, root):\n",
        "        \"\"\"\n",
        "        :type root: TreeNode\n",
        "        :rtype: List[int]\n",
        "        \"\"\"\n",
        "\n",
        "        if not root:\n",
        "        \treturn []\n",
        "\n",
        "        stack, result = [], []\n",
        "\n",
        "        while True:\n",
        "        \twhile root:\n",
        "        \t\tif root.right:\n",
        "        \t\t\tstack.append(root.right)\n",
        "        \t\tstack.append(root)\n",
        "        \t\troot = root.left\n",
        "\n",
        "        \troot = stack.pop()\n",
        "\n",
        "        \tif root.right and stack and stack[-1] == root.right:\n",
        "        \t\tstack.pop()\n",
        "        \t\tstack.append(root)\n",
        "        \t\troot = root.right\n",
        "        \telse:\n",
        "        \t\tresult.append(root.val)\n",
        "        \t\troot = None\n",
        "\n",
        "        \tif  len(stack)<=0:\n",
        "        \t\tbreak\n",
        "\n",
        "        return result"
      ]
    },
    {
      "cell_type": "markdown",
      "source": [
        "#Hack3rPUNK"
      ],
      "metadata": {
        "id": "d2ejUuTP5NlP"
      }
    }
  ]
}
