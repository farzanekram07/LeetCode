{
  "nbformat": 4,
  "nbformat_minor": 0,
  "metadata": {
    "colab": {
      "provenance": [],
      "authorship_tag": "ABX9TyN4H/dc3NqrYBaXJAHobZJ4",
      "include_colab_link": true
    },
    "kernelspec": {
      "name": "python3",
      "display_name": "Python 3"
    },
    "language_info": {
      "name": "python"
    }
  },
  "cells": [
    {
      "cell_type": "markdown",
      "metadata": {
        "id": "view-in-github",
        "colab_type": "text"
      },
      "source": [
        "<a href=\"https://colab.research.google.com/github/farzanekram07/LeetCode/blob/main/00289.ipynb\" target=\"_parent\"><img src=\"https://colab.research.google.com/assets/colab-badge.svg\" alt=\"Open In Colab\"/></a>"
      ]
    },
    {
      "cell_type": "code",
      "execution_count": null,
      "metadata": {
        "id": "uha7RxAzVwjJ"
      },
      "outputs": [],
      "source": [
        "class Solution(object):\n",
        "    def gameOfLife(self, board):\n",
        "        \"\"\"\n",
        "        :type board: List[List[int]]\n",
        "        :rtype: void Do not return anything, modify board in-place instead.\n",
        "        \"\"\"\n",
        "        index = []\n",
        "\n",
        "        def around(i, j, board):\n",
        "            count = 0\n",
        "            for k in range(i-1, i+2):\n",
        "                for l in range(j-1, j+2):\n",
        "                    if 0<=k < len(board) and 0 <= l < len(board[0]):\n",
        "                        if board[k][l] == 1:\n",
        "                            count += 1\n",
        "\n",
        "            return count-1 if board[i][j] == 1 else count\n",
        "\n",
        "        for i in range(len(board)):\n",
        "            for j in range(len(board[0])):\n",
        "                count = around(i, j, board)\n",
        "                if board[i][j] == 1:\n",
        "                    if count > 3 or count < 2:\n",
        "                        index.append([i, j, 0])\n",
        "                else:\n",
        "                    if count == 3:\n",
        "                        index.append([i, j, 1])\n",
        "\n",
        "        while index:\n",
        "            i, j, value = index.pop()\n",
        "            board[i][j] =value\n",
        ""
      ]
    }
  ]
}