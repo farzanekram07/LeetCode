{
  "nbformat": 4,
  "nbformat_minor": 0,
  "metadata": {
    "colab": {
      "provenance": [],
      "authorship_tag": "ABX9TyPocS+PwOu0hZhRnmKzw5n4",
      "include_colab_link": true
    },
    "kernelspec": {
      "name": "python3",
      "display_name": "Python 3"
    },
    "language_info": {
      "name": "python"
    }
  },
  "cells": [
    {
      "cell_type": "markdown",
      "metadata": {
        "id": "view-in-github",
        "colab_type": "text"
      },
      "source": [
        "<a href=\"https://colab.research.google.com/github/farzanekram07/LeetCode/blob/main/103.ipynb\" target=\"_parent\"><img src=\"https://colab.research.google.com/assets/colab-badge.svg\" alt=\"Open In Colab\"/></a>"
      ]
    },
    {
      "cell_type": "code",
      "execution_count": null,
      "metadata": {
        "id": "mF--TxQe22Fk"
      },
      "outputs": [],
      "source": [
        "class Solution(object):\n",
        "    def zigzagLevelOrder(self, root):\n",
        "        \"\"\"\n",
        "        :type root: TreeNode\n",
        "        :rtype: List[List[int]]\n",
        "        \"\"\"\n",
        "\n",
        "        if not root:\n",
        "        \treturn []\n",
        "\n",
        "        queue = [(root, 0)]\n",
        "        levelMap = {}\n",
        "\n",
        "        while queue:\n",
        "        \tnode, level = queue.pop(0)\n",
        "        \tif node.left:\n",
        "        \t\tqueue.append((node.left, level+1))\n",
        "        \tif node.right:\n",
        "        \t\tqueue.append((node.right, level+1))\n",
        "\n",
        "        \tif level in levelMap:\n",
        "        \t\tlevelMap[level].append(node.val)\n",
        "        \telse:\n",
        "        \t\tlevelMap[level] = [node.val]\n",
        "\n",
        "        result = []\n",
        "        spiral = False\n",
        "        for key, value in levelMap.iteritems():\n",
        "            if spiral:\n",
        "                value = value[::-1]\n",
        "            result.append(value)\n",
        "            spiral = not spiral\n",
        "        return result"
      ]
    },
    {
      "cell_type": "markdown",
      "source": [
        "#Hack3rPUNK"
      ],
      "metadata": {
        "id": "sDOadsUJ24Z4"
      }
    }
  ]
}