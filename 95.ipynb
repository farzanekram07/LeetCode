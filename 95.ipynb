{
  "nbformat": 4,
  "nbformat_minor": 0,
  "metadata": {
    "colab": {
      "name": "95.ipynb",
      "provenance": [],
      "authorship_tag": "ABX9TyOkZcZ0+85Q2qX4BFAUAyDM",
      "include_colab_link": true
    },
    "kernelspec": {
      "name": "python3",
      "display_name": "Python 3"
    },
    "language_info": {
      "name": "python"
    }
  },
  "cells": [
    {
      "cell_type": "markdown",
      "metadata": {
        "id": "view-in-github",
        "colab_type": "text"
      },
      "source": [
        "<a href=\"https://colab.research.google.com/github/farzanekram07/LeetCode/blob/main/95.ipynb\" target=\"_parent\"><img src=\"https://colab.research.google.com/assets/colab-badge.svg\" alt=\"Open In Colab\"/></a>"
      ]
    },
    {
      "cell_type": "code",
      "execution_count": null,
      "metadata": {
        "id": "4eLJQjNV8vk3"
      },
      "outputs": [],
      "source": [
        "class Solution(object):\n",
        "    def generateTrees(self, n):\n",
        "        \n",
        "        if n == 0:\n",
        "        \treturn []\n",
        "\n",
        "\n",
        "        def generate(start, end):\n",
        "        \tresult = []\n",
        "        \tif start > end:\n",
        "        \t\tresult.append(None)\n",
        "        \t\treturn result\n",
        "\n",
        "        \tfor index in range(start, end+1):\n",
        "        \t\tleft = generate(start, index-1)\n",
        "        \t\tright = generate(index+1, end)\n",
        "\n",
        "        \t\tfor l in left:\n",
        "        \t\t\tfor r in right:\n",
        "        \t\t\t\tcurrent = TreeNode(index)\n",
        "        \t\t\t\tcurrent.left = l\n",
        "        \t\t\t\tcurrent.right = r\n",
        "        \t\t\t\tresult.append(current)\n",
        "\n",
        "        \treturn result\n",
        "\n",
        "        return generate(1, n)\n",
        "\n"
      ]
    },
    {
      "cell_type": "markdown",
      "source": [
        "#hac3kerPUNK\n"
      ],
      "metadata": {
        "id": "yZwtEKRLddkr"
      }
    }
  ]
}