{
  "nbformat": 4,
  "nbformat_minor": 0,
  "metadata": {
    "colab": {
      "provenance": [],
      "authorship_tag": "ABX9TyOiMaJQ2RffqtJn73lr/m0+",
      "include_colab_link": true
    },
    "kernelspec": {
      "name": "python3",
      "display_name": "Python 3"
    },
    "language_info": {
      "name": "python"
    }
  },
  "cells": [
    {
      "cell_type": "markdown",
      "metadata": {
        "id": "view-in-github",
        "colab_type": "text"
      },
      "source": [
        "<a href=\"https://colab.research.google.com/github/farzanekram07/LeetCode/blob/main/133.ipynb\" target=\"_parent\"><img src=\"https://colab.research.google.com/assets/colab-badge.svg\" alt=\"Open In Colab\"/></a>"
      ]
    },
    {
      "cell_type": "code",
      "execution_count": null,
      "metadata": {
        "id": "GhZFSWjcTpM6"
      },
      "outputs": [],
      "source": [
        "class Solution(object):\n",
        "    def canFinish(self, numCourses, prerequisites):\n",
        "        \"\"\"\n",
        "        :type numCourses: int\n",
        "        :type prerequisites: List[List[int]]\n",
        "        :rtype: bool\n",
        "        \"\"\"\n",
        "\n",
        "        graph = [[] for _ in range(numCourses)]\n",
        "        visited = [False for _ in range(numCourses)]\n",
        "        stack = [False for _ in range(numCourses)]\n",
        "\n",
        "        for pair in prerequisites:\n",
        "            x, y = pair\n",
        "            graph[x].append(y)\n",
        "\n",
        "        for course in range(numCourses):\n",
        "        \tif visited[course] == False:\n",
        "        \t\tif self.dfs(graph, visited, stack, course):\n",
        "        \t\t\treturn False\n",
        "        return True\n",
        "\n",
        "    def dfs(self, graph, visited, stack, course):\n",
        "    \tvisited[course] = True\n",
        "    \tstack[course] = True\n",
        "\n",
        "    \tfor neigh in graph[course]:\n",
        "    \t\tif visited[neigh] == False:\n",
        "    \t\t\tif self.dfs(graph, visited, stack, neigh):\n",
        "    \t\t\t\treturn True\n",
        "\n",
        "    \t\telif stack[neigh]:\n",
        "    \t\t\treturn True\n",
        "    \tstack[course] = False\n",
        "    \treturn False"
      ]
    },
    {
      "cell_type": "markdown",
      "source": [
        "#Hack3rPUNK"
      ],
      "metadata": {
        "id": "whqV6keGT8_u"
      }
    }
  ]
}
