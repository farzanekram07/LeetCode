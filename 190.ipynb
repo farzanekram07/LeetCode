{
  "nbformat": 4,
  "nbformat_minor": 0,
  "metadata": {
    "colab": {
      "provenance": [],
      "authorship_tag": "ABX9TyP8sdQoaKhEhfKY5SSD+bhz",
      "include_colab_link": true
    },
    "kernelspec": {
      "name": "python3",
      "display_name": "Python 3"
    },
    "language_info": {
      "name": "python"
    }
  },
  "cells": [
    {
      "cell_type": "markdown",
      "metadata": {
        "id": "view-in-github",
        "colab_type": "text"
      },
      "source": [
        "<a href=\"https://colab.research.google.com/github/farzanekram07/LeetCode/blob/main/190.ipynb\" target=\"_parent\"><img src=\"https://colab.research.google.com/assets/colab-badge.svg\" alt=\"Open In Colab\"/></a>"
      ]
    },
    {
      "cell_type": "code",
      "execution_count": null,
      "metadata": {
        "id": "xNJoVLnA6Moc"
      },
      "outputs": [],
      "source": [
        "class Solution:\n",
        "    def reverseBits(self, n):\n",
        "        res = 0\n",
        "        for i in range(32):\n",
        "            res += n & 1\n",
        "            n = n >> 1\n",
        "            if i != 31:\n",
        "                res = res << 1\n",
        "        return res\n",
        "\n",
        "print Solution().reverseBits(12)"
      ]
    },
    {
      "cell_type": "markdown",
      "source": [
        "#Hack3rPUNK"
      ],
      "metadata": {
        "id": "ca6FnauE6SbG"
      }
    }
  ]
}