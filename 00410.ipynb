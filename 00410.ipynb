{
  "nbformat": 4,
  "nbformat_minor": 0,
  "metadata": {
    "colab": {
      "provenance": [],
      "authorship_tag": "ABX9TyO6CljZp4JCKcxgaMCa3LKG",
      "include_colab_link": true
    },
    "kernelspec": {
      "name": "python3",
      "display_name": "Python 3"
    },
    "language_info": {
      "name": "python"
    }
  },
  "cells": [
    {
      "cell_type": "markdown",
      "metadata": {
        "id": "view-in-github",
        "colab_type": "text"
      },
      "source": [
        "<a href=\"https://colab.research.google.com/github/farzanekram07/LeetCode/blob/main/410.ipynb\" target=\"_parent\"><img src=\"https://colab.research.google.com/assets/colab-badge.svg\" alt=\"Open In Colab\"/></a>"
      ]
    },
    {
      "cell_type": "code",
      "execution_count": null,
      "metadata": {
        "id": "YwfIfpBEhW-t"
      },
      "outputs": [],
      "source": [
        "class Solution(object):\n",
        "    def splitArray(self, nums, m):\n",
        "        \"\"\"\n",
        "        :type nums: List[int]\n",
        "        :type m: int\n",
        "        :rtype: int\n",
        "        \"\"\"\n",
        "\n",
        "        left, right = max(nums), sum(nums)\n",
        "\n",
        "        while left < right:\n",
        "            mid = left + ((right-left) >> 1)\n",
        "            curr_sum, invalid, groups = 0, True, 0\n",
        "            for num in nums:\n",
        "                if num > mid:\n",
        "                    inalid = False\n",
        "                    break\n",
        "                if num + curr_sum > mid:\n",
        "                    groups += 1\n",
        "                    curr_sum = 0\n",
        "                curr_sum += num\n",
        "            if invalid and groups < m:\n",
        "                right = mid\n",
        "            else:"
      ]
    },
    {
      "cell_type": "markdown",
      "source": [
        "#Hack3rPUNK"
      ],
      "metadata": {
        "id": "_LYSCUMPhzXT"
      }
    }
  ]
}
