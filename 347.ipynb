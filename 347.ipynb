{
  "nbformat": 4,
  "nbformat_minor": 0,
  "metadata": {
    "colab": {
      "provenance": [],
      "authorship_tag": "ABX9TyPbF1aiizbjvP6CyQz9Z07e",
      "include_colab_link": true
    },
    "kernelspec": {
      "name": "python3",
      "display_name": "Python 3"
    },
    "language_info": {
      "name": "python"
    }
  },
  "cells": [
    {
      "cell_type": "markdown",
      "metadata": {
        "id": "view-in-github",
        "colab_type": "text"
      },
      "source": [
        "<a href=\"https://colab.research.google.com/github/farzanekram07/LeetCode/blob/main/347.ipynb\" target=\"_parent\"><img src=\"https://colab.research.google.com/assets/colab-badge.svg\" alt=\"Open In Colab\"/></a>"
      ]
    },
    {
      "cell_type": "code",
      "execution_count": null,
      "metadata": {
        "id": "tesogD_aHlfl"
      },
      "outputs": [],
      "source": [
        "class Solution(object):\n",
        "    def topKFrequent(self, nums, k):\n",
        "        \"\"\"\n",
        "        :type nums: List[int]\n",
        "        :type k: int\n",
        "        :rtype: List[int]\n",
        "        \"\"\"\n",
        "        if not nums:\n",
        "        \treturn []\n",
        "        frequency = {}\n",
        "        for num in nums:\n",
        "        \tif num in frequency:\n",
        "        \t\tfrequency[num] += 1\n",
        "        \telse:\n",
        "        \t\tfrequency[num] = 1\n",
        "\n",
        "       \tresult = []\n",
        "       \timport heapq\n",
        "       \theap = []\n",
        "\n",
        "       \tfor key, value in frequency.iteritems():\n",
        "       \t\theapq.heappush(heap, (-value, key))\n",
        "\n",
        "       \tfor _ in range(k):\n",
        "       \t\tresult.append(heapq.heappop(heap)[1])\n",
        "       \treturn result"
      ]
    },
    {
      "cell_type": "markdown",
      "source": [
        "#Hack3rPUNK"
      ],
      "metadata": {
        "id": "06al6xfTH1RL"
      }
    }
  ]
}