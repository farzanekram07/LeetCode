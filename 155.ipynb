{
  "nbformat": 4,
  "nbformat_minor": 0,
  "metadata": {
    "colab": {
      "provenance": [],
      "authorship_tag": "ABX9TyNNqao+2wbC0e2O7VUlKH6T",
      "include_colab_link": true
    },
    "kernelspec": {
      "name": "python3",
      "display_name": "Python 3"
    },
    "language_info": {
      "name": "python"
    }
  },
  "cells": [
    {
      "cell_type": "markdown",
      "metadata": {
        "id": "view-in-github",
        "colab_type": "text"
      },
      "source": [
        "<a href=\"https://colab.research.google.com/github/farzanekram07/LeetCode/blob/main/155.ipynb\" target=\"_parent\"><img src=\"https://colab.research.google.com/assets/colab-badge.svg\" alt=\"Open In Colab\"/></a>"
      ]
    },
    {
      "cell_type": "code",
      "execution_count": null,
      "metadata": {
        "id": "84L5CmKB5nmW"
      },
      "outputs": [],
      "source": [
        "class MinStack(object):\n",
        "\n",
        "    def __init__(self):\n",
        "        \"\"\"\n",
        "        initialize your data structure here.\n",
        "        \"\"\"\n",
        "        self.stack = []\n",
        "        self.minimum = float('inf')\n",
        "\n",
        "    def push(self, x):\n",
        "        \"\"\"\n",
        "        :type x: int\n",
        "        :rtype: void\n",
        "        \"\"\"\n",
        "        if not self.stack:\n",
        "        \tself.stack.append(x)\n",
        "        \tself.minimum = x\n",
        "        else:\n",
        "        \tif x < self.minimum:\n",
        "        \t\tself.stack.append(2*x-self.minimum)\n",
        "        \t\tself.minimum = x\n",
        "        \telse:\n",
        "        \t\tself.stack.append(x)\n",
        "\n",
        "        print self.stack\n",
        "\n",
        "\n",
        "    def pop(self):\n",
        "        \"\"\"\n",
        "        :rtype: void\n",
        "        \"\"\"\n",
        "        if self.stack:\n",
        "        \ttop = self.stack.pop()\n",
        "        \tif top < self.minimum:\n",
        "        \t\tself.minimum = 2*self.minimum - top\n",
        "\n",
        "\n",
        "    def top(self):\n",
        "        \"\"\"\n",
        "        :rtype: int\n",
        "        \"\"\"\n",
        "        if not self.stack:\n",
        "        \treturn None\n",
        "        else:\n",
        "        \ttop = self.stack[-1]\n",
        "        \tif top < self.minimum:\n",
        "        \t\treturn self.minimum\n",
        "        \telse:\n",
        "        \t\treturn top\n",
        "\n",
        "\n",
        "    def getMin(self):\n",
        "        \"\"\"\n",
        "        :rtype: int\n",
        "        \"\"\"\n",
        "        if self.stack:\n",
        "        \treturn self.minimum\n",
        "        else:\n",
        "        \treturn None"
      ]
    },
    {
      "cell_type": "markdown",
      "source": [
        "#Hack3rPUNK"
      ],
      "metadata": {
        "id": "-CXQ1c0N5rLA"
      }
    }
  ]
}