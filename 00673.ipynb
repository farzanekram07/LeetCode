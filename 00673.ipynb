{
  "nbformat": 4,
  "nbformat_minor": 0,
  "metadata": {
    "colab": {
      "provenance": [],
      "authorship_tag": "ABX9TyP/aKoz0T+vV7/FtgSGYmhl",
      "include_colab_link": true
    },
    "kernelspec": {
      "name": "python3",
      "display_name": "Python 3"
    },
    "language_info": {
      "name": "python"
    }
  },
  "cells": [
    {
      "cell_type": "markdown",
      "metadata": {
        "id": "view-in-github",
        "colab_type": "text"
      },
      "source": [
        "<a href=\"https://colab.research.google.com/github/farzanekram07/LeetCode/blob/main/673.ipynb\" target=\"_parent\"><img src=\"https://colab.research.google.com/assets/colab-badge.svg\" alt=\"Open In Colab\"/></a>"
      ]
    },
    {
      "cell_type": "code",
      "execution_count": null,
      "metadata": {
        "id": "HBAsmGlJFtyl"
      },
      "outputs": [],
      "source": [
        "class Solution(object):\n",
        "    def findNumberOfLIS(self, nums):\n",
        "        length = [1]*len(nums)\n",
        "        count = [1]*len(nums)\n",
        "        result = 0\n",
        "        for end, num in enumerate(nums):\n",
        "            for start in range(end):\n",
        "                if num > nums[start]:\n",
        "                    if length[start] >= length[end]:\n",
        "                        length[end] = 1+length[start]\n",
        "                        count[end] = count[start]\n",
        "                    elif length[start] + 1 == length[end]:\n",
        "                        count[end] += count[start]\n",
        "        for index, max_subs in enumerate(count):\n",
        "            if length[index] == max(length):\n",
        "                result += max_subs\n",
        "        return result"
      ]
    },
    {
      "cell_type": "markdown",
      "source": [
        "#Hack3rPUNK"
      ],
      "metadata": {
        "id": "BJW3RJNbGAGt"
      }
    }
  ]
}
