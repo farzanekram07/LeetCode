{
  "nbformat": 4,
  "nbformat_minor": 0,
  "metadata": {
    "colab": {
      "provenance": [],
      "authorship_tag": "ABX9TyOePWUFWM4w5wsefi8Bz7B/",
      "include_colab_link": true
    },
    "kernelspec": {
      "name": "python3",
      "display_name": "Python 3"
    },
    "language_info": {
      "name": "python"
    }
  },
  "cells": [
    {
      "cell_type": "markdown",
      "metadata": {
        "id": "view-in-github",
        "colab_type": "text"
      },
      "source": [
        "<a href=\"https://colab.research.google.com/github/farzanekram07/LeetCode/blob/main/253.ipynb\" target=\"_parent\"><img src=\"https://colab.research.google.com/assets/colab-badge.svg\" alt=\"Open In Colab\"/></a>"
      ]
    },
    {
      "cell_type": "code",
      "execution_count": null,
      "metadata": {
        "id": "Em35GOcfWE8n"
      },
      "outputs": [],
      "source": [
        "class Solution:\n",
        "    def minMeetingRooms(self, intervals):\n",
        "    \tif not intervals or len(intervals) == 0:\n",
        "    \t\treturn 0\n",
        "\n",
        "    \timport heapq\n",
        "\n",
        "    \tsorted_intervals = sorted(intervals, key=lambda it:(it.start, it.end))\n",
        "    \theap, result = [], 0\n",
        "\n",
        "    \tfor interval in sorted_intervals:\n",
        "    \t\tstart, end = interval.start, interval.end\n",
        "\n",
        "    \t\twhile heap and heap[0] <= start:\n",
        "    \t\t\theapq.heappop(heap)\n",
        "\n",
        "    \t\theapq.heappush(heap, end)\n",
        "\n",
        "    \t\tresult = max(result, len(heap))\n",
        "    \treturn result"
      ]
    },
    {
      "cell_type": "markdown",
      "source": [
        "#Hack3rPUNK"
      ],
      "metadata": {
        "id": "mnudv4ZSW6EL"
      }
    }
  ]
}
