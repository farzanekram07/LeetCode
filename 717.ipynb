{
  "nbformat": 4,
  "nbformat_minor": 0,
  "metadata": {
    "colab": {
      "provenance": [],
      "authorship_tag": "ABX9TyPQqESSuh6EllEFmcuGFc4D",
      "include_colab_link": true
    },
    "kernelspec": {
      "name": "python3",
      "display_name": "Python 3"
    },
    "language_info": {
      "name": "python"
    }
  },
  "cells": [
    {
      "cell_type": "markdown",
      "metadata": {
        "id": "view-in-github",
        "colab_type": "text"
      },
      "source": [
        "<a href=\"https://colab.research.google.com/github/farzanekram07/LeetCode/blob/main/717.ipynb\" target=\"_parent\"><img src=\"https://colab.research.google.com/assets/colab-badge.svg\" alt=\"Open In Colab\"/></a>"
      ]
    },
    {
      "cell_type": "code",
      "execution_count": null,
      "metadata": {
        "id": "UbNjras2wKNj"
      },
      "outputs": [],
      "source": [
        "# Time:  O(n)\n",
        "# Space: O(1)\n",
        "\n",
        "\n",
        "class Solution(object):\n",
        "    def isOneBitCharacter(self, bits):\n",
        "        \"\"\"\n",
        "        :type bits: List[int]\n",
        "        :rtype: bool\n",
        "        \"\"\"\n",
        "        parity = 0\n",
        "        for i in reversed(xrange(len(bits)-1)):\n",
        "            if bits[i] == 0:\n",
        "                break\n",
        "            parity ^= bits[i]\n",
        "        return parity == 0"
      ]
    },
    {
      "cell_type": "markdown",
      "source": [
        "#Hack3rPUNK"
      ],
      "metadata": {
        "id": "xr0uNipAwP25"
      }
    }
  ]
}