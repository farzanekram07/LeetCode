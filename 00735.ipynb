{
  "nbformat": 4,
  "nbformat_minor": 0,
  "metadata": {
    "colab": {
      "provenance": [],
      "authorship_tag": "ABX9TyMn0o4CRmnb8Ob5dko4ECbC",
      "include_colab_link": true
    },
    "kernelspec": {
      "name": "python3",
      "display_name": "Python 3"
    },
    "language_info": {
      "name": "python"
    }
  },
  "cells": [
    {
      "cell_type": "markdown",
      "metadata": {
        "id": "view-in-github",
        "colab_type": "text"
      },
      "source": [
        "<a href=\"https://colab.research.google.com/github/farzanekram07/LeetCode/blob/main/735.ipynb\" target=\"_parent\"><img src=\"https://colab.research.google.com/assets/colab-badge.svg\" alt=\"Open In Colab\"/></a>"
      ]
    },
    {
      "cell_type": "code",
      "execution_count": null,
      "metadata": {
        "id": "qCekJgE_HXBX"
      },
      "outputs": [],
      "source": [
        "# Time:  O(n)\n",
        "# Space: O(n)\n",
        "\n",
        "\n",
        "class Solution(object):\n",
        "    def asteroidCollision(self, asteroids):\n",
        "        \n",
        "        result = []\n",
        "        for asteroid in asteroids:\n",
        "            while result and asteroid < 0 < result[-1]:\n",
        "                if result[-1] < -asteroid:\n",
        "                    result.pop()\n",
        "                    continue\n",
        "                elif result[-1] == -asteroid:\n",
        "                    result.pop()\n",
        "                break\n",
        "            else:\n",
        "                result.append(asteroid)\n",
        "        return result"
      ]
    },
    {
      "cell_type": "markdown",
      "source": [
        "#Hack3rPUNK"
      ],
      "metadata": {
        "id": "xTXh1Z95H1Kv"
      }
    }
  ]
}
