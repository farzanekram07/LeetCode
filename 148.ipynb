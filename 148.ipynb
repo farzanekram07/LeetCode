{
  "nbformat": 4,
  "nbformat_minor": 0,
  "metadata": {
    "colab": {
      "provenance": [],
      "authorship_tag": "ABX9TyPIgDXlDbz6Sg7ylKTkA6QU",
      "include_colab_link": true
    },
    "kernelspec": {
      "name": "python3",
      "display_name": "Python 3"
    },
    "language_info": {
      "name": "python"
    }
  },
  "cells": [
    {
      "cell_type": "markdown",
      "metadata": {
        "id": "view-in-github",
        "colab_type": "text"
      },
      "source": [
        "<a href=\"https://colab.research.google.com/github/farzanekram07/LeetCode/blob/main/148.ipynb\" target=\"_parent\"><img src=\"https://colab.research.google.com/assets/colab-badge.svg\" alt=\"Open In Colab\"/></a>"
      ]
    },
    {
      "cell_type": "code",
      "execution_count": null,
      "metadata": {
        "id": "cHV0l1X24tVR"
      },
      "outputs": [],
      "source": [
        "class Solution(object):\n",
        "    def sortList(self, head):\n",
        "        \"\"\"\n",
        "        :type head: ListNode\n",
        "        :rtype: ListNode\n",
        "        \"\"\"\n",
        "\n",
        "        if not head or not head.next:\n",
        "        \treturn head\n",
        "\n",
        "        slow, fast = head, head.next\n",
        "\n",
        "        while fast.next and fast.next.next:\n",
        "        \tslow = slow.next\n",
        "        \tfast = fast.next.next\n",
        "\n",
        "        head1, head2 = head, slow.next\n",
        "        slow.next = None\n",
        "        head1 = self.sortList(head1)\n",
        "        head2 = self.sortList(head2)\n",
        "        head = self.merge(head1, head2)\n",
        "        return head\n",
        "\n",
        "    def merge(self, head1, head2):\n",
        "    \tif not head1:\n",
        "    \t\treturn head2\n",
        "    \tif not head2:\n",
        "    \t\treturn head1\n",
        "\n",
        "    \tresult = ListNode(0)\n",
        "    \tp = result\n",
        "\n",
        "    \twhile head1 and head2:\n",
        "    \t\tif head1.val <= head2.val:\n",
        "    \t\t\tp.next = ListNode(head1.val)\n",
        "    \t\t\thead1 = head1.next\n",
        "    \t\t\tp = p.next\n",
        "    \t\telse:\n",
        "    \t\t\tp.next = ListNode(head2.val)\n",
        "    \t\t\thead2 = head2.next\n",
        "    \t\t\tp = p.next\n",
        "\n",
        "    \tif head1:\n",
        "    \t\tp.next = head1\n",
        "    \tif head2:\n",
        "    \t\tp.next = head2\n",
        "    \treturn result.next"
      ]
    },
    {
      "cell_type": "markdown",
      "source": [
        "#Hack3rPUNK"
      ],
      "metadata": {
        "id": "BiwqbPsg42Aw"
      }
    }
  ]
}