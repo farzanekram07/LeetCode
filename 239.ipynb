{
  "nbformat": 4,
  "nbformat_minor": 0,
  "metadata": {
    "colab": {
      "provenance": [],
      "authorship_tag": "ABX9TyO3EYBUjqfxW49L36l79gFn",
      "include_colab_link": true
    },
    "kernelspec": {
      "name": "python3",
      "display_name": "Python 3"
    },
    "language_info": {
      "name": "python"
    }
  },
  "cells": [
    {
      "cell_type": "markdown",
      "metadata": {
        "id": "view-in-github",
        "colab_type": "text"
      },
      "source": [
        "<a href=\"https://colab.research.google.com/github/farzanekram07/LeetCode/blob/main/239.ipynb\" target=\"_parent\"><img src=\"https://colab.research.google.com/assets/colab-badge.svg\" alt=\"Open In Colab\"/></a>"
      ]
    },
    {
      "cell_type": "code",
      "execution_count": null,
      "metadata": {
        "id": "dfwFjeuTincR"
      },
      "outputs": [],
      "source": [
        "from collections import deque\n",
        "class Solution(object):\n",
        "    def maxSlidingWindow(self, nums, k):\n",
        "        \"\"\"\n",
        "        :type nums: List[int]\n",
        "        :type k: int\n",
        "        :rtype: List[int]\n",
        "        \"\"\"\n",
        "        if len(nums) == 0:\n",
        "            return []\n",
        "        q = deque()\n",
        "        for i in range(k):\n",
        "            while q and nums[i] >= nums[q[-1]]:\n",
        "                q.pop()\n",
        "            q.append(i)\n",
        "\n",
        "        result = []\n",
        "        for i in range(k, len(nums)):\n",
        "            result.append(nums[q[0]])\n",
        "\n",
        "            while q and q[0] <= i-k:\n",
        "                q.popleft()\n",
        "            while q and nums[i] >= nums[q[-1]]:\n",
        "                q.pop()\n",
        "\n",
        "            q.append(i)\n",
        "\n",
        "        result.append(nums[q[0]])\n",
        "        return result\n",
        ""
      ]
    },
    {
      "cell_type": "markdown",
      "source": [
        "#Hack3rPUNK"
      ],
      "metadata": {
        "id": "2Yy1IQc3i8iP"
      }
    }
  ]
}